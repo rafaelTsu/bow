{
 "cells": [
  {
   "cell_type": "code",
   "execution_count": 48,
   "metadata": {},
   "outputs": [
    {
     "name": "stderr",
     "output_type": "stream",
     "text": [
      "[nltk_data] Downloading package punkt_tab to\n",
      "[nltk_data]     C:\\Users\\Rafael\\AppData\\Roaming\\nltk_data...\n"
     ]
    },
    {
     "name": "stdout",
     "output_type": "stream",
     "text": [
      "['i', 'me', 'my', 'myself', 'we', 'our', 'ours', 'ourselves', 'you', \"you're\", \"you've\", \"you'll\", \"you'd\", 'your', 'yours', 'yourself', 'yourselves', 'he', 'him', 'his', 'himself', 'she', \"she's\", 'her', 'hers', 'herself', 'it', \"it's\", 'its', 'itself', 'they', 'them', 'their', 'theirs', 'themselves', 'what', 'which', 'who', 'whom', 'this', 'that', \"that'll\", 'these', 'those', 'am', 'is', 'are', 'was', 'were', 'be', 'been', 'being', 'have', 'has', 'had', 'having', 'do', 'does', 'did', 'doing', 'a', 'an', 'the', 'and', 'but', 'if', 'or', 'because', 'as', 'until', 'while', 'of', 'at', 'by', 'for', 'with', 'about', 'against', 'between', 'into', 'through', 'during', 'before', 'after', 'above', 'below', 'to', 'from', 'up', 'down', 'in', 'out', 'on', 'off', 'over', 'under', 'again', 'further', 'then', 'once', 'here', 'there', 'when', 'where', 'why', 'how', 'all', 'any', 'both', 'each', 'few', 'more', 'most', 'other', 'some', 'such', 'no', 'nor', 'not', 'only', 'own', 'same', 'so', 'than', 'too', 'very', 's', 't', 'can', 'will', 'just', 'don', \"don't\", 'should', \"should've\", 'now', 'd', 'll', 'm', 'o', 're', 've', 'y', 'ain', 'aren', \"aren't\", 'couldn', \"couldn't\", 'didn', \"didn't\", 'doesn', \"doesn't\", 'hadn', \"hadn't\", 'hasn', \"hasn't\", 'haven', \"haven't\", 'isn', \"isn't\", 'ma', 'mightn', \"mightn't\", 'mustn', \"mustn't\", 'needn', \"needn't\", 'shan', \"shan't\", 'shouldn', \"shouldn't\", 'wasn', \"wasn't\", 'weren', \"weren't\", 'won', \"won't\", 'wouldn', \"wouldn't\"]\n"
     ]
    },
    {
     "name": "stderr",
     "output_type": "stream",
     "text": [
      "[nltk_data]   Unzipping tokenizers\\punkt_tab.zip.\n",
      "[nltk_data] Downloading package stopwords to\n",
      "[nltk_data]     C:\\Users\\Rafael\\AppData\\Roaming\\nltk_data...\n",
      "[nltk_data]   Package stopwords is already up-to-date!\n"
     ]
    }
   ],
   "source": [
    "import nltk\n",
    "from nltk.corpus import stopwords\n",
    "\n",
    "nltk.download('punkt_tab')\n",
    "nltk.download('stopwords')\n",
    "\n",
    "print(stopwords.words('english'))\n"
   ]
  },
  {
   "cell_type": "code",
   "execution_count": 74,
   "metadata": {},
   "outputs": [],
   "source": [
    "import PyPDF2\n",
    "\n",
    "# Função para extrair texto de PDFs\n",
    "def pdf_para_txt(caminho_pdf):\n",
    "    with open(caminho_pdf, \"rb\") as f:\n",
    "        leitor = PyPDF2.PdfReader(f)\n",
    "        texto = \"\"\n",
    "        for pagina in range(len(leitor.pages)):\n",
    "            texto += leitor.pages[pagina].extract_text()\n",
    "    return texto\n",
    "\n",
    "# Diretórios com os PDFs\n",
    "diretorios = {\n",
    "    'poesia': 'pdfs/poesia/',\n",
    "    'prosa': 'pdfs/prosa/',\n",
    "    'jornalismo': 'pdfs/jornalismo/'\n",
    "}\n",
    "\n",
    "# Função para limpar e remover stopwords\n",
    "def limpar_texto(texto):\n",
    "    texto = texto.replace(\"\\n\", \" \")\n",
    "    stop_words = set(stopwords.words(\"english\"))\n",
    "    palavras = nltk.word_tokenize(texto.lower())\n",
    "    palavras_limpa = [palavra for palavra in palavras if palavra.isalnum() and palavra not in stop_words]\n",
    "    return \" \".join(palavras_limpa)\n"
   ]
  },
  {
   "cell_type": "code",
   "execution_count": 75,
   "metadata": {},
   "outputs": [],
   "source": [
    "import os\n",
    "\n",
    "# Extraindo textos e gerando classes\n",
    "textos = []\n",
    "classes = []\n",
    "\n",
    "for classe, caminho in diretorios.items():\n",
    "    for arquivo in os.listdir(caminho):\n",
    "        if arquivo.endswith(\".pdf\"):\n",
    "            texto = pdf_para_txt(os.path.join(caminho, arquivo))\n",
    "            texto_limpo = limpar_texto(texto)\n",
    "            textos.append(texto_limpo)\n",
    "            classes.append(classe)"
   ]
  },
  {
   "cell_type": "code",
   "execution_count": 76,
   "metadata": {},
   "outputs": [
    {
     "name": "stdout",
     "output_type": "stream",
     "text": [
      "Matriz BoW:  [[0.         0.         0.         ... 0.         0.00135319 0.00135319]\n",
      " [0.         0.         0.         ... 0.         0.         0.        ]\n",
      " [0.         0.00846547 0.         ... 0.         0.         0.        ]\n",
      " ...\n",
      " [0.         0.         0.04217639 ... 0.         0.         0.        ]\n",
      " [0.08488911 0.         0.         ... 0.         0.         0.        ]\n",
      " [0.         0.         0.         ... 0.03146049 0.         0.        ]]\n",
      "Vocabulário:  ['01' '02' '03' ... 'única' 'γεωργός' 'μεγαλοψυχία']\n",
      "Classes:  ['poesia', 'poesia', 'poesia', 'poesia', 'poesia', 'prosa', 'prosa', 'prosa', 'prosa', 'prosa', 'jornalismo', 'jornalismo', 'jornalismo', 'jornalismo', 'jornalismo']\n"
     ]
    }
   ],
   "source": [
    "from sklearn.feature_extraction.text import TfidfVectorizer\n",
    "\n",
    "# Criando a matriz Bag of Words\n",
    "vectorizer = TfidfVectorizer()\n",
    "X = vectorizer.fit_transform(textos)\n",
    "\n",
    "print(\"Matriz BoW: \", X.toarray())\n",
    "print(\"Vocabulário: \", vectorizer.get_feature_names_out())\n",
    "print(\"Classes: \", classes)"
   ]
  }
 ],
 "metadata": {
  "kernelspec": {
   "display_name": ".env",
   "language": "python",
   "name": "python3"
  },
  "language_info": {
   "codemirror_mode": {
    "name": "ipython",
    "version": 3
   },
   "file_extension": ".py",
   "mimetype": "text/x-python",
   "name": "python",
   "nbconvert_exporter": "python",
   "pygments_lexer": "ipython3",
   "version": "3.11.5"
  }
 },
 "nbformat": 4,
 "nbformat_minor": 2
}
